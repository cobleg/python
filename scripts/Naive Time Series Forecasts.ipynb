{
 "cells": [
  {
   "cell_type": "markdown",
   "metadata": {},
   "source": [
    "# Introduction\n",
    "The objective of this notebook is to set up a simple time series forecast process in Python 3. This is based on: Jason Brownlee (2018) Deep Learning for Time Series Forecasting, Predict the Future with MLPs, CNNs and LSTMs in Python.\n",
    "\n",
    "Key steps are:\n",
    "1. Set up training and testing\n",
    "2. Read in time series data\n",
    "3. Define a function to evaluate forecast accuracy\n",
    "4. Develop a naive forecast model for one day ahead, one week ahead & week forecast from the year before.\n"
   ]
  },
  {
   "cell_type": "markdown",
   "metadata": {},
   "source": [
    "# Set up training and testing"
   ]
  },
  {
   "cell_type": "code",
   "execution_count": 3,
   "metadata": {
    "collapsed": true
   },
   "outputs": [],
   "source": [
    "# create a function to split a univariate dataset into train/test sets\n",
    "def split_dataset(data):\n",
    "    from numpy import split\n",
    "    from numpy import array\n",
    "    # split into standard weeks\n",
    "    train, test = data[1:-328], data[-328:-6]\n",
    "    # restructure into windows of weekly data\n",
    "    train = array(split(train, len(train)/7))\n",
    "    test = array(split(test, len(test)/7))\n",
    "    return train, test"
   ]
  },
  {
   "cell_type": "markdown",
   "metadata": {},
   "source": [
    "*Note*: the function above uses split to create segments of seven day sub-arrays. See: https://docs.scipy.org/doc/numpy/reference/generated/numpy.split.html. A simple example is shown below:"
   ]
  },
  {
   "cell_type": "code",
   "execution_count": 67,
   "metadata": {},
   "outputs": [
    {
     "name": "stdout",
     "output_type": "stream",
     "text": [
      "[  0.   1.   2.   3.   4.   5.   6.   7.   8.   9.  10.  11.  12.  13.  14.\n",
      "  15.  16.  17.  18.  19.  20.]\n"
     ]
    }
   ],
   "source": [
    "import numpy as np\n",
    "x = np.arange(21.0)\n",
    "print(x)"
   ]
  },
  {
   "cell_type": "code",
   "execution_count": 69,
   "metadata": {},
   "outputs": [
    {
     "data": {
      "text/plain": [
       "[array([ 0.,  1.,  2.,  3.,  4.,  5.,  6.]),\n",
       " array([  7.,   8.,   9.,  10.,  11.,  12.,  13.]),\n",
       " array([ 14.,  15.,  16.,  17.,  18.,  19.,  20.])]"
      ]
     },
     "execution_count": 69,
     "metadata": {},
     "output_type": "execute_result"
    }
   ],
   "source": [
    "np.split(x, len(x)/7)"
   ]
  },
  {
   "cell_type": "markdown",
   "metadata": {},
   "source": [
    "End of example"
   ]
  },
  {
   "cell_type": "code",
   "execution_count": 5,
   "metadata": {},
   "outputs": [],
   "source": [
    "# load the data\n",
    "from pandas import read_csv\n",
    "dataset = read_csv('household_power_consumption_days.csv', header=0, infer_datetime_format=True, parse_dates=['datetime'], index_col=['datetime'])\n",
    "train, test = split_dataset(dataset.values)"
   ]
  },
  {
   "cell_type": "code",
   "execution_count": 51,
   "metadata": {},
   "outputs": [
    {
     "data": {
      "text/plain": [
       "pandas.core.frame.DataFrame"
      ]
     },
     "execution_count": 51,
     "metadata": {},
     "output_type": "execute_result"
    }
   ],
   "source": [
    "type(dataset)\n"
   ]
  },
  {
   "cell_type": "code",
   "execution_count": 33,
   "metadata": {},
   "outputs": [
    {
     "name": "stdout",
     "output_type": "stream",
     "text": [
      "            Global_active_power  Global_reactive_power    Voltage  \\\n",
      "datetime                                                            \n",
      "2010-01-03             2083.454                 191.61  350992.12   \n",
      "\n",
      "            Global_intensity  Sub_metering_1  Sub_metering_2  Sub_metering_3  \\\n",
      "datetime                                                                       \n",
      "2010-01-03            8703.6          3842.0          4920.0         10074.0   \n",
      "\n",
      "               remainder     Remainder  \n",
      "datetime                                \n",
      "2010-01-03  15888.233333  15888.233333  \n"
     ]
    }
   ],
   "source": [
    "print(dataset[-328:-327]) # print the last row of training set"
   ]
  },
  {
   "cell_type": "code",
   "execution_count": 74,
   "metadata": {},
   "outputs": [
    {
     "name": "stdout",
     "output_type": "stream",
     "text": [
      "            Global_active_power  Global_reactive_power    Voltage  \\\n",
      "datetime                                                            \n",
      "2006-12-17              3390.46                226.006  345725.32   \n",
      "\n",
      "            Global_intensity  Sub_metering_1  Sub_metering_2  Sub_metering_3  \\\n",
      "datetime                                                                       \n",
      "2006-12-17           14398.6          2033.0          4187.0         13341.0   \n",
      "\n",
      "               remainder     Remainder  \n",
      "datetime                                \n",
      "2006-12-17  36946.666667  36946.666667  \n"
     ]
    }
   ],
   "source": [
    "print(dataset[1:2]) # print the second row of dataset"
   ]
  },
  {
   "cell_type": "code",
   "execution_count": 77,
   "metadata": {},
   "outputs": [
    {
     "name": "stdout",
     "output_type": "stream",
     "text": [
      "3390.46\n"
     ]
    }
   ],
   "source": [
    "print(train[0,0,0]) # [0, 0, 0] corresponds to [week number, day of week, variable]; \n",
    "# print the first element of the first variable in the first week in the training data"
   ]
  },
  {
   "cell_type": "code",
   "execution_count": 81,
   "metadata": {},
   "outputs": [
    {
     "name": "stdout",
     "output_type": "stream",
     "text": [
      "149.9\n"
     ]
    }
   ],
   "source": [
    "print(train[1,0,1]) # [1, 0, 1] corresponds to [week, day of week, variable]; \n",
    "# print the first day of the second variable (Global_reactive_power) in the second week in the training data"
   ]
  },
  {
   "cell_type": "code",
   "execution_count": 82,
   "metadata": {},
   "outputs": [
    {
     "name": "stdout",
     "output_type": "stream",
     "text": [
      "            Global_active_power  Global_reactive_power    Voltage  \\\n",
      "datetime                                                            \n",
      "2006-12-24             2550.012                  149.9  348029.91   \n",
      "\n",
      "            Global_intensity  Sub_metering_1  Sub_metering_2  Sub_metering_3  \\\n",
      "datetime                                                                       \n",
      "2006-12-24           11002.2          1703.0          5082.0          6891.0   \n",
      "\n",
      "            remainder  Remainder  \n",
      "datetime                          \n",
      "2006-12-24    28824.2    28824.2  \n"
     ]
    }
   ],
   "source": [
    "print(dataset[8:9]) # print the 8th row of dataset, which corresponds to the cell above. \n",
    "# Verify that the value for Global_reactive_power matches the result from the cell above."
   ]
  },
  {
   "cell_type": "code",
   "execution_count": 53,
   "metadata": {},
   "outputs": [
    {
     "name": "stdout",
     "output_type": "stream",
     "text": [
      "(159, 7, 9)\n",
      "3390.46 2197.006\n",
      "(46, 7, 9)\n",
      "2083.454 2197.006\n"
     ]
    }
   ],
   "source": [
    "# validate train data\n",
    "print(train.shape)\n",
    "print(train[0, 0, 0], test[-1, -1, 0])\n",
    "\n",
    "# validate test\n",
    "print(test.shape)\n",
    "print(test[0, 0, 0], test[-1, -1, 0])"
   ]
  },
  {
   "cell_type": "markdown",
   "metadata": {},
   "source": [
    "The results of the cell above show that there are 159 weeks of data in the training set, split into weekly segments of seven days, across 9 variables i.e. (159, 7, 9). This is compared to the validation data set, which has 46 weeks split into seven day segments, across 9 variables."
   ]
  },
  {
   "cell_type": "markdown",
   "metadata": {},
   "source": [
    "# Define a function to evaluate forecast accuracy"
   ]
  },
  {
   "cell_type": "code",
   "execution_count": 101,
   "metadata": {
    "collapsed": true
   },
   "outputs": [],
   "source": [
    "# evaluate one or more weekly forecasts against expected values\n",
    "def evaluate_forecasts(actual, predicted):\n",
    "    from math import sqrt\n",
    "    from sklearn.metrics import mean_squared_error\n",
    "    scores = list()\n",
    "    # calculate an RMSE score for each day\n",
    "    for i in range(actual.shape[1]):\n",
    "        # calculate mean square error (mse)\n",
    "        mse = mean_squared_error(actual[:, i], predicted[:, i])\n",
    "        # calculate root mse (rmse)\n",
    "        rmse = sqrt(mse)\n",
    "        # store the calculated value\n",
    "        scores.append(rmse)\n",
    "    # calculate overall RMSE\n",
    "    s = 0\n",
    "    for row in range(actual.shape[0]):\n",
    "        for col in range(actual.shape[1]):\n",
    "            s +=(actual[row, col] - predicted[row, col])**2\n",
    "    score = sqrt(s/ (actual.shape[0] * actual.shape[1]))\n",
    "    return score, scores"
   ]
  },
  {
   "cell_type": "markdown",
   "metadata": {},
   "source": [
    "# Define a function to validate the forecast model"
   ]
  },
  {
   "cell_type": "code",
   "execution_count": 95,
   "metadata": {
    "collapsed": true
   },
   "outputs": [],
   "source": [
    "# evaluate a single model using the walk-forward validation approach\n",
    "def evaluate_model(model_func, train, test):\n",
    "    from numpy import array\n",
    "    # history is a list of weekly data\n",
    "    history = [x for x in train] # this is a list comprehension that creates a list from an array\n",
    "    # walk-forward validation over each week\n",
    "    predictions = list()\n",
    "    for i in range(len(test)):\n",
    "        # predict the week\n",
    "        yhat_sequence = model_func(history)\n",
    "        # store the predictions\n",
    "        predictions.append(yhat_sequence)\n",
    "        # get real observation and add to history for predicting the next week\n",
    "        history.append(test[i, :])\n",
    "    predictions = array(predictions)\n",
    "    # evaluate predictions days for each week\n",
    "    score, scores = evaluate_forecasts(test[:, :, 0], predictions)\n",
    "    return score, scores"
   ]
  },
  {
   "cell_type": "code",
   "execution_count": 86,
   "metadata": {},
   "outputs": [
    {
     "data": {
      "text/plain": [
       "list"
      ]
     },
     "execution_count": 86,
     "metadata": {},
     "output_type": "execute_result"
    }
   ],
   "source": [
    "type(history)"
   ]
  },
  {
   "cell_type": "code",
   "execution_count": 87,
   "metadata": {},
   "outputs": [
    {
     "data": {
      "text/plain": [
       "numpy.ndarray"
      ]
     },
     "execution_count": 87,
     "metadata": {},
     "output_type": "execute_result"
    }
   ],
   "source": [
    "type(train)"
   ]
  },
  {
   "cell_type": "code",
   "execution_count": 103,
   "metadata": {
    "collapsed": true
   },
   "outputs": [],
   "source": [
    "# create a summary of the scores\n",
    "def summarise_scores(name, score, scores):\n",
    "    s_scores = ', '.join(['%.1f' % s for s in scores])\n",
    "    print('%s: [%.3f] %s' % (name, score, s_scores))"
   ]
  },
  {
   "cell_type": "markdown",
   "metadata": {},
   "source": [
    "# Develop naive forecast models\n"
   ]
  },
  {
   "cell_type": "code",
   "execution_count": 89,
   "metadata": {
    "collapsed": true
   },
   "outputs": [],
   "source": [
    "# create a daily persistence forecast model\n",
    "def daily_persistence(history):\n",
    "    # get the data for the prior week\n",
    "    last_week = history[-1]\n",
    "    # get the total active power for the lst day\n",
    "    value = last_week[-1, 0]\n",
    "    # prepare 7 day forecast\n",
    "    forecast = [value for _ in range(7)]\n",
    "    return forecast"
   ]
  },
  {
   "cell_type": "code",
   "execution_count": 90,
   "metadata": {
    "collapsed": true
   },
   "outputs": [],
   "source": [
    "# create a weekly persistence forecast model\n",
    "def weekly_persistence(history):\n",
    "    # get the data for the prior week\n",
    "    last_week = history[-1]\n",
    "    return last_week[:, 0]\n"
   ]
  },
  {
   "cell_type": "code",
   "execution_count": 91,
   "metadata": {
    "collapsed": true
   },
   "outputs": [],
   "source": [
    "# create a weekly one year ago forecast model\n",
    "def week_one_year_ago_persistence(history):\n",
    "    # get the data for the prior week\n",
    "    last_week = history[-52]\n",
    "    return last_week[:, 0]"
   ]
  },
  {
   "cell_type": "markdown",
   "metadata": {},
   "source": [
    "Create a dictionary to store the model names"
   ]
  },
  {
   "cell_type": "code",
   "execution_count": 93,
   "metadata": {
    "collapsed": true
   },
   "outputs": [],
   "source": [
    "# define the names and functions for the models to be evaluated\n",
    "models = dict()\n",
    "models['daily'] = daily_persistence\n",
    "models['weekly'] = weekly_persistence\n",
    "models['week-oya'] = week_one_year_ago_persistence"
   ]
  },
  {
   "cell_type": "markdown",
   "metadata": {},
   "source": [
    "# Fit and evaluate forecast models"
   ]
  },
  {
   "cell_type": "code",
   "execution_count": 109,
   "metadata": {},
   "outputs": [
    {
     "name": "stdout",
     "output_type": "stream",
     "text": [
      "daily_persistence: [511.886] 452.9, 596.4, 532.1, 490.5, 534.3, 481.5, 482.0\n",
      "daily_persistence: [469.389] 567.6, 500.3, 411.2, 466.1, 471.9, 358.3, 482.0\n",
      "daily_persistence: [465.294] 550.0, 446.7, 398.6, 487.0, 459.3, 313.5, 555.1\n"
     ]
    },
    {
     "data": {
      "image/png": "[encoded data removed]",
      "text/plain": [
       "<matplotlib.figure.Figure at 0x7f79a762cac8>"
      ]
     },
     "metadata": {},
     "output_type": "display_data"
    }
   ],
   "source": [
    "# evaluate each model\n",
    "from matplotlib import pyplot\n",
    "# days = ['sun', 'mon', 'tue', 'wed', 'thr', 'fri', 'sat']\n",
    "days = range(0, 7)\n",
    "for name, func in models.items():\n",
    "    # evaluate and get scores\n",
    "    score, scores = evaluate_model(func, train, test)\n",
    "    # summarise scores\n",
    "    summarise_scores('daily_persistence', score, scores)\n",
    "    # plot scores\n",
    "    pyplot.plot(days, scores, marker='o', label=name)\n",
    "# show plot\n",
    "pyplot.legend()\n",
    "pyplot.show()"
   ]
  },
  {
   "cell_type": "markdown",
   "metadata": {},
   "source": [
    "The chart shown above shows the forecast error statistic for each day of the daily and weekly forecast. The plot and the table of results shown above the chart suggest that the one week ahead a year ago is the more accurate forecast method.\n",
    "\n",
    "End of notebook."
   ]
  }
 ],
 "metadata": {
  "kernelspec": {
   "display_name": "Python 3",
   "language": "python",
   "name": "python3"
  },
  "language_info": {
   "codemirror_mode": {
    "name": "ipython",
    "version": 3
   },
   "file_extension": ".py",
   "mimetype": "text/x-python",
   "name": "python",
   "nbconvert_exporter": "python",
   "pygments_lexer": "ipython3",
   "version": "3.6.3"
  }
 },
 "nbformat": 4,
 "nbformat_minor": 2
}
